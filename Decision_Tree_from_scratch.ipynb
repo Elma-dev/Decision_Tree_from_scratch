{
  "nbformat": 4,
  "nbformat_minor": 0,
  "metadata": {
    "colab": {
      "provenance": [],
      "authorship_tag": "ABX9TyN8T2iD96lmZsC2XBqhRW1/",
      "include_colab_link": true
    },
    "kernelspec": {
      "name": "python3",
      "display_name": "Python 3"
    },
    "language_info": {
      "name": "python"
    }
  },
  "cells": [
    {
      "cell_type": "markdown",
      "metadata": {
        "id": "view-in-github",
        "colab_type": "text"
      },
      "source": [
        "<a href=\"https://colab.research.google.com/github/Elma-dev/Decision_Tree_from_scratch/blob/main/Decision_Tree_from_scratch.ipynb\" target=\"_parent\"><img src=\"https://colab.research.google.com/assets/colab-badge.svg\" alt=\"Open In Colab\"/></a>"
      ]
    },
    {
      "cell_type": "code",
      "execution_count": 1,
      "metadata": {
        "id": "vlgbQgE-bzfZ"
      },
      "outputs": [],
      "source": [
        "import numpy as np"
      ]
    },
    {
      "cell_type": "code",
      "source": [
        "class Node:\n",
        "  def __init__(self,data=None,left=None,right=None) -> None:\n",
        "    self.data=data\n",
        "    self.left=left\n",
        "    self.right=right\n",
        "  "
      ],
      "metadata": {
        "id": "wzNYBIAzc7kY"
      },
      "execution_count": 2,
      "outputs": []
    },
    {
      "cell_type": "code",
      "source": [
        "class Tree:\n",
        "  def __init__(self,root=None):\n",
        "    self.root=root\n",
        "  def readRLR(self):\n",
        "    self.__readRLR(self.root)\n",
        "  def __readRLR(self,root):\n",
        "    if root!=None :\n",
        "      print(root,root.data)\n",
        "      self.__readRLR(root.left)\n",
        "      self.__readRLR(root.right)\n",
        "      \n"
      ],
      "metadata": {
        "id": "t6Eaba5sdhhu"
      },
      "execution_count": 3,
      "outputs": []
    },
    {
      "cell_type": "code",
      "source": [
        "class DecisionTree:\n",
        "  def __init__(self):\n",
        "    self.tree=Tree()\n",
        "  def fit(self,X,y):\n",
        "    self.tree.root=self.__fit(X,y,self.tree.root)\n",
        "\n",
        "  def __fit(self,X,y,root):\n",
        "    maxGain={\"index\":-1,\"gain\":-1}\n",
        "    for column in range(X.shape[1]):\n",
        "      g=self.Gain(X[:,column],y)\n",
        "      if g==0 :\n",
        "        root=Node('d'+str(y[0]))\n",
        "        return root\n",
        "      elif g>maxGain[\"gain\"] :\n",
        "        maxGain['gain']=g\n",
        "        maxGain['index']=column\n",
        "    root=Node(maxGain['index'])\n",
        "    root.left=self.__fit(np.delete(X[X[:,maxGain['index']]==0] , maxGain['index'],1),y[X[:,maxGain['index']]==0],root.left)\n",
        "    root.right=(self.__fit(np.delete(X[X[:,maxGain['index']]==1],maxGain['index'],1),y[X[:,maxGain['index']]==1],root.right))\n",
        "    return root\n",
        "      \n",
        "  \n",
        "  def Entropy(self,data):\n",
        "    if len(data)!=0:\n",
        "      p1=len(data[data==1])/len(data)\n",
        "      if p1!=0 and p1!=1:\n",
        "        H=-p1*np.log2(p1)-(1-p1)*np.log2(1-p1)\n",
        "        return H\n",
        "    return 0\n",
        "  \n",
        "  def Gain(self,X,y):\n",
        "      pos= y[X==1]\n",
        "      neg= y[X==0]\n",
        "      w_pos=len(X[X==1])/len(X)\n",
        "      w_neg=len(X[X==0])/len(X)\n",
        "      return self.Entropy(y)-(w_pos*self.Entropy(pos)+w_neg*self.Entropy(neg))\n",
        "  def readTree(self):\n",
        "    self.__readRLR(self.tree.root)\n",
        "\n",
        "  def __readRLR(self,root):\n",
        "    if root!=None :\n",
        "      print(root,root.data)\n",
        "      self.__readRLR(root.left)\n",
        "      self.__readRLR(root.right)\n"
      ],
      "metadata": {
        "id": "MNHxjldud3tI"
      },
      "execution_count": 41,
      "outputs": []
    },
    {
      "cell_type": "code",
      "source": [
        "X_train = np.array([[1,1,1],\n",
        "                    [1,0,1],\n",
        "                    [1,0,0],\n",
        "                    [1,0,0],\n",
        "                    [1,1,1],\n",
        "                    [0,1,1],\n",
        "                    [0,0,0],\n",
        "                    [1,0,1],\n",
        "                    [0,1,0],\n",
        "                    [1,0,0]])\n",
        "y_train = np.array([1,1,0,0,1,0,0,1,1,0])"
      ],
      "metadata": {
        "id": "LUAFns4_yMRE"
      },
      "execution_count": 42,
      "outputs": []
    },
    {
      "cell_type": "code",
      "source": [
        "dt=DecisionTree()\n",
        "dt.fit(X_train,y_train)"
      ],
      "metadata": {
        "id": "fjLIwk7OyOLP"
      },
      "execution_count": 43,
      "outputs": []
    },
    {
      "cell_type": "code",
      "source": [
        "dt.readTree()"
      ],
      "metadata": {
        "colab": {
          "base_uri": "https://localhost:8080/"
        },
        "id": "98u_GH8HyC90",
        "outputId": "5f17c339-158c-4428-a30b-338558a2985e"
      },
      "execution_count": 44,
      "outputs": [
        {
          "output_type": "stream",
          "name": "stdout",
          "text": [
            "<__main__.Node object at 0x7f2eacb19100> 2\n",
            "<__main__.Node object at 0x7f2eacb19d00> 1\n",
            "<__main__.Node object at 0x7f2eacb19dc0> d0\n",
            "<__main__.Node object at 0x7f2eacb19610> d1\n",
            "<__main__.Node object at 0x7f2eacb191c0> 0\n",
            "<__main__.Node object at 0x7f2eacb190d0> d0\n",
            "<__main__.Node object at 0x7f2eacb19ca0> d1\n"
          ]
        }
      ]
    },
    {
      "cell_type": "code",
      "source": [],
      "metadata": {
        "id": "U4a45mZGRfAP"
      },
      "execution_count": null,
      "outputs": []
    },
    {
      "cell_type": "code",
      "source": [
        "print(dt.tree.root.data)\n",
        "print(dt.tree.root.left.data)\n",
        "print(dt.tree.root.right.data)"
      ],
      "metadata": {
        "id": "rzca386RIchg",
        "outputId": "1c04bb07-02f8-4e38-cc34-1a457d962615",
        "colab": {
          "base_uri": "https://localhost:8080/"
        }
      },
      "execution_count": 45,
      "outputs": [
        {
          "output_type": "stream",
          "name": "stdout",
          "text": [
            "2\n",
            "1\n",
            "0\n"
          ]
        }
      ]
    }
  ]
}